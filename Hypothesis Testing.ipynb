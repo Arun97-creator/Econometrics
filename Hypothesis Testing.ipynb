{
 "cells": [
  {
   "cell_type": "markdown",
   "metadata": {},
   "source": [
    "Table gives data on Gold prices,   the Consumer Price Index (CPI), and\n",
    "the New York Stock Exchange (NYSE) Index for the United States for the\n",
    "period 1977–1991. The NYSE Index includes most of the stocks listed on\n",
    "the NYSE, some 1500 plus."
   ]
  },
  {
   "cell_type": "code",
   "execution_count": 1,
   "metadata": {},
   "outputs": [],
   "source": [
    "import pandas as pd\n",
    "import numpy as np\n",
    "import matplotlib.pyplot as plt\n",
    "from sklearn import linear_model\n",
    "import statsmodels.api as sm"
   ]
  },
  {
   "cell_type": "code",
   "execution_count": 4,
   "metadata": {
    "scrolled": true
   },
   "outputs": [
    {
     "data": {
      "text/html": [
       "<div>\n",
       "<style scoped>\n",
       "    .dataframe tbody tr th:only-of-type {\n",
       "        vertical-align: middle;\n",
       "    }\n",
       "\n",
       "    .dataframe tbody tr th {\n",
       "        vertical-align: top;\n",
       "    }\n",
       "\n",
       "    .dataframe thead th {\n",
       "        text-align: right;\n",
       "    }\n",
       "</style>\n",
       "<table border=\"1\" class=\"dataframe\">\n",
       "  <thead>\n",
       "    <tr style=\"text-align: right;\">\n",
       "      <th></th>\n",
       "      <th>Year</th>\n",
       "      <th>GoldPrice</th>\n",
       "      <th>NYSE</th>\n",
       "      <th>CPI</th>\n",
       "    </tr>\n",
       "  </thead>\n",
       "  <tbody>\n",
       "    <tr>\n",
       "      <th>0</th>\n",
       "      <td>1977</td>\n",
       "      <td>147.98</td>\n",
       "      <td>60.60</td>\n",
       "      <td>53.69</td>\n",
       "    </tr>\n",
       "    <tr>\n",
       "      <th>1</th>\n",
       "      <td>1978</td>\n",
       "      <td>193.44</td>\n",
       "      <td>65.20</td>\n",
       "      <td>53.70</td>\n",
       "    </tr>\n",
       "    <tr>\n",
       "      <th>2</th>\n",
       "      <td>1979</td>\n",
       "      <td>307.62</td>\n",
       "      <td>137.80</td>\n",
       "      <td>58.32</td>\n",
       "    </tr>\n",
       "    <tr>\n",
       "      <th>3</th>\n",
       "      <td>1980</td>\n",
       "      <td>612.51</td>\n",
       "      <td>194.30</td>\n",
       "      <td>68.10</td>\n",
       "    </tr>\n",
       "    <tr>\n",
       "      <th>4</th>\n",
       "      <td>1981</td>\n",
       "      <td>459.61</td>\n",
       "      <td>256.20</td>\n",
       "      <td>74.02</td>\n",
       "    </tr>\n",
       "    <tr>\n",
       "      <th>5</th>\n",
       "      <td>1982</td>\n",
       "      <td>376.01</td>\n",
       "      <td>278.30</td>\n",
       "      <td>68.93</td>\n",
       "    </tr>\n",
       "    <tr>\n",
       "      <th>6</th>\n",
       "      <td>1983</td>\n",
       "      <td>423.83</td>\n",
       "      <td>367.78</td>\n",
       "      <td>92.63</td>\n",
       "    </tr>\n",
       "    <tr>\n",
       "      <th>7</th>\n",
       "      <td>1984</td>\n",
       "      <td>360.29</td>\n",
       "      <td>380.56</td>\n",
       "      <td>92.46</td>\n",
       "    </tr>\n",
       "    <tr>\n",
       "      <th>8</th>\n",
       "      <td>1985</td>\n",
       "      <td>317.30</td>\n",
       "      <td>430.75</td>\n",
       "      <td>108.90</td>\n",
       "    </tr>\n",
       "    <tr>\n",
       "      <th>9</th>\n",
       "      <td>1986</td>\n",
       "      <td>367.87</td>\n",
       "      <td>478.90</td>\n",
       "      <td>136.00</td>\n",
       "    </tr>\n",
       "    <tr>\n",
       "      <th>10</th>\n",
       "      <td>1987</td>\n",
       "      <td>446.50</td>\n",
       "      <td>590.45</td>\n",
       "      <td>161.70</td>\n",
       "    </tr>\n",
       "    <tr>\n",
       "      <th>11</th>\n",
       "      <td>1988</td>\n",
       "      <td>436.93</td>\n",
       "      <td>640.56</td>\n",
       "      <td>149.91</td>\n",
       "    </tr>\n",
       "    <tr>\n",
       "      <th>12</th>\n",
       "      <td>1989</td>\n",
       "      <td>381.28</td>\n",
       "      <td>700.78</td>\n",
       "      <td>180.02</td>\n",
       "    </tr>\n",
       "    <tr>\n",
       "      <th>13</th>\n",
       "      <td>1990</td>\n",
       "      <td>384.08</td>\n",
       "      <td>756.90</td>\n",
       "      <td>183.46</td>\n",
       "    </tr>\n",
       "    <tr>\n",
       "      <th>14</th>\n",
       "      <td>1991</td>\n",
       "      <td>362.04</td>\n",
       "      <td>803.90</td>\n",
       "      <td>206.33</td>\n",
       "    </tr>\n",
       "  </tbody>\n",
       "</table>\n",
       "</div>"
      ],
      "text/plain": [
       "    Year  GoldPrice    NYSE     CPI\n",
       "0   1977     147.98   60.60   53.69\n",
       "1   1978     193.44   65.20   53.70\n",
       "2   1979     307.62  137.80   58.32\n",
       "3   1980     612.51  194.30   68.10\n",
       "4   1981     459.61  256.20   74.02\n",
       "5   1982     376.01  278.30   68.93\n",
       "6   1983     423.83  367.78   92.63\n",
       "7   1984     360.29  380.56   92.46\n",
       "8   1985     317.30  430.75  108.90\n",
       "9   1986     367.87  478.90  136.00\n",
       "10  1987     446.50  590.45  161.70\n",
       "11  1988     436.93  640.56  149.91\n",
       "12  1989     381.28  700.78  180.02\n",
       "13  1990     384.08  756.90  183.46\n",
       "14  1991     362.04  803.90  206.33"
      ]
     },
     "execution_count": 4,
     "metadata": {},
     "output_type": "execute_result"
    }
   ],
   "source": [
    "data = pd.read_csv(\"eco.csv\")\n",
    "data\n",
    "# Price of Gold at NewYork $ per ounce\n",
    "# Consumer Price Index (C.P.I.) 1982-84 = 100\n",
    "# New York Stock Exchange Index,Dec 31 (1965 = 100)"
   ]
  },
  {
   "cell_type": "markdown",
   "metadata": {},
   "source": [
    "### Consumer Price Index -\n",
    "India-https://www.manifestias.com/2020/05/24/consumer-price-index/\n",
    "\n",
    "### NYSE Composite index\n",
    "\n",
    "What Is the NYSE Composite Index?\n",
    "\n",
    "### The NYSE Composite Index is an index that measures the performance of all stocks listed on the New York Stock Exchange. \n",
    "The NYSE Composite Index includes more than 1,900 stocks, of which over 1,500 are U.S. companies.\n",
    "\n"
   ]
  },
  {
   "cell_type": "markdown",
   "metadata": {},
   "source": [
    "#### Model 1                                           \n",
    "Gold Price @t = β1 + β2(C.P.I.@t) + ut\n",
    "\n",
    "#### Model 2                                            \n",
    "NYSE index @t = β1 + β2(C.P.I.@t) + ut"
   ]
  },
  {
   "cell_type": "code",
   "execution_count": 5,
   "metadata": {
    "scrolled": true
   },
   "outputs": [
    {
     "data": {
      "text/plain": [
       "<matplotlib.collections.PathCollection at 0x262365cd9c8>"
      ]
     },
     "execution_count": 5,
     "metadata": {},
     "output_type": "execute_result"
    },
    {
     "data": {
      "image/png": "[encoded data removed]",
      "text/plain": [
       "<Figure size 432x288 with 1 Axes>"
      ]
     },
     "metadata": {
      "needs_background": "light"
     },
     "output_type": "display_data"
    }
   ],
   "source": [
    "#Scatter Plot\n",
    "%matplotlib inline\n",
    "plt.xlabel('Consumer Price Index (C.P.I.) 1982-84 = 100')\n",
    "plt.ylabel('New York Stock Exchange Index,Dec 31 (1965 = 100)')\n",
    "plt.scatter(data.CPI,data.NYSE,color='red',marker='+')"
   ]
  },
  {
   "cell_type": "code",
   "execution_count": 6,
   "metadata": {},
   "outputs": [
    {
     "data": {
      "text/plain": [
       "<matplotlib.collections.PathCollection at 0x262366b7f08>"
      ]
     },
     "execution_count": 6,
     "metadata": {},
     "output_type": "execute_result"
    },
    {
     "data": {
      "image/png": "[encoded data removed]",
      "text/plain": [
       "<Figure size 432x288 with 1 Axes>"
      ]
     },
     "metadata": {
      "needs_background": "light"
     },
     "output_type": "display_data"
    }
   ],
   "source": [
    "%matplotlib inline\n",
    "plt.xlabel('Consumer Price Index (C.P.I.) 1982-84 = 100')\n",
    "plt.ylabel('Price of Gold at NewYork $ per ounce')\n",
    "plt.scatter(data.CPI,data.GoldPrice,color='blue',marker='+')"
   ]
  },
  {
   "cell_type": "markdown",
   "metadata": {},
   "source": [
    "### Questions\n",
    "a. Estimate the two regressions given there, obtaining standard errors\n",
    "and the other usual output.\n",
    "\n",
    "b. Test the hypothesis that the disturbances in the two regression models\n",
    "are normally distributed.\n",
    "\n",
    "c. In the gold price regression, test the hypothesis that β2 = 1, that is,\n",
    "there is a one-to-one relationship between gold prices and CPI (i.e., gold\n",
    "is a perfect hedge).\n",
    "\n",
    "d. Repeat step c for the NYSE Index regression. Is investment in the\n",
    "stock market a perfect hedge against inflation? What is the null hypothesis\n",
    "you are testing? \n",
    "\n",
    "e. Between gold and stock, which investment would you choose? What is\n",
    "the basis of your decision?"
   ]
  },
  {
   "cell_type": "code",
   "execution_count": 7,
   "metadata": {},
   "outputs": [
    {
     "name": "stderr",
     "output_type": "stream",
     "text": [
      "C:\\Users\\HP\\anaconda3\\lib\\site-packages\\scipy\\stats\\stats.py:1535: UserWarning: kurtosistest only valid for n>=20 ... continuing anyway, n=15\n",
      "  \"anyway, n=%i\" % int(n))\n"
     ]
    },
    {
     "data": {
      "text/html": [
       "<table class=\"simpletable\">\n",
       "<caption>OLS Regression Results</caption>\n",
       "<tr>\n",
       "  <th>Dep. Variable:</th>        <td>GoldPrice</td>    <th>  R-squared:         </th> <td>   0.055</td>\n",
       "</tr>\n",
       "<tr>\n",
       "  <th>Model:</th>                   <td>OLS</td>       <th>  Adj. R-squared:    </th> <td>  -0.018</td>\n",
       "</tr>\n",
       "<tr>\n",
       "  <th>Method:</th>             <td>Least Squares</td>  <th>  F-statistic:       </th> <td>  0.7544</td>\n",
       "</tr>\n",
       "<tr>\n",
       "  <th>Date:</th>             <td>Tue, 20 Oct 2020</td> <th>  Prob (F-statistic):</th>  <td> 0.401</td> \n",
       "</tr>\n",
       "<tr>\n",
       "  <th>Time:</th>                 <td>02:39:18</td>     <th>  Log-Likelihood:    </th> <td> -90.774</td>\n",
       "</tr>\n",
       "<tr>\n",
       "  <th>No. Observations:</th>      <td>    15</td>      <th>  AIC:               </th> <td>   185.5</td>\n",
       "</tr>\n",
       "<tr>\n",
       "  <th>Df Residuals:</th>          <td>    13</td>      <th>  BIC:               </th> <td>   187.0</td>\n",
       "</tr>\n",
       "<tr>\n",
       "  <th>Df Model:</th>              <td>     1</td>      <th>                     </th>     <td> </td>   \n",
       "</tr>\n",
       "<tr>\n",
       "  <th>Covariance Type:</th>      <td>nonrobust</td>    <th>                     </th>     <td> </td>   \n",
       "</tr>\n",
       "</table>\n",
       "<table class=\"simpletable\">\n",
       "<tr>\n",
       "    <td></td>       <th>coef</th>     <th>std err</th>      <th>t</th>      <th>P>|t|</th>  <th>[0.025</th>    <th>0.975]</th>  \n",
       "</tr>\n",
       "<tr>\n",
       "  <th>const</th> <td>  317.0128</td> <td>   69.241</td> <td>    4.578</td> <td> 0.001</td> <td>  167.426</td> <td>  466.599</td>\n",
       "</tr>\n",
       "<tr>\n",
       "  <th>CPI</th>   <td>    0.4870</td> <td>    0.561</td> <td>    0.869</td> <td> 0.401</td> <td>   -0.724</td> <td>    1.698</td>\n",
       "</tr>\n",
       "</table>\n",
       "<table class=\"simpletable\">\n",
       "<tr>\n",
       "  <th>Omnibus:</th>       <td> 3.844</td> <th>  Durbin-Watson:     </th> <td>   0.980</td>\n",
       "</tr>\n",
       "<tr>\n",
       "  <th>Prob(Omnibus):</th> <td> 0.146</td> <th>  Jarque-Bera (JB):  </th> <td>   1.446</td>\n",
       "</tr>\n",
       "<tr>\n",
       "  <th>Skew:</th>          <td> 0.525</td> <th>  Prob(JB):          </th> <td>   0.485</td>\n",
       "</tr>\n",
       "<tr>\n",
       "  <th>Kurtosis:</th>      <td> 4.100</td> <th>  Cond. No.          </th> <td>    300.</td>\n",
       "</tr>\n",
       "</table><br/><br/>Warnings:<br/>[1] Standard Errors assume that the covariance matrix of the errors is correctly specified."
      ],
      "text/plain": [
       "<class 'statsmodels.iolib.summary.Summary'>\n",
       "\"\"\"\n",
       "                            OLS Regression Results                            \n",
       "==============================================================================\n",
       "Dep. Variable:              GoldPrice   R-squared:                       0.055\n",
       "Model:                            OLS   Adj. R-squared:                 -0.018\n",
       "Method:                 Least Squares   F-statistic:                    0.7544\n",
       "Date:                Tue, 20 Oct 2020   Prob (F-statistic):              0.401\n",
       "Time:                        02:39:18   Log-Likelihood:                -90.774\n",
       "No. Observations:                  15   AIC:                             185.5\n",
       "Df Residuals:                      13   BIC:                             187.0\n",
       "Df Model:                           1                                         \n",
       "Covariance Type:            nonrobust                                         \n",
       "==============================================================================\n",
       "                 coef    std err          t      P>|t|      [0.025      0.975]\n",
       "------------------------------------------------------------------------------\n",
       "const        317.0128     69.241      4.578      0.001     167.426     466.599\n",
       "CPI            0.4870      0.561      0.869      0.401      -0.724       1.698\n",
       "==============================================================================\n",
       "Omnibus:                        3.844   Durbin-Watson:                   0.980\n",
       "Prob(Omnibus):                  0.146   Jarque-Bera (JB):                1.446\n",
       "Skew:                           0.525   Prob(JB):                        0.485\n",
       "Kurtosis:                       4.100   Cond. No.                         300.\n",
       "==============================================================================\n",
       "\n",
       "Warnings:\n",
       "[1] Standard Errors assume that the covariance matrix of the errors is correctly specified.\n",
       "\"\"\""
      ]
     },
     "execution_count": 7,
     "metadata": {},
     "output_type": "execute_result"
    }
   ],
   "source": [
    "#Model 1\n",
    "X = data['CPI']\n",
    "Y = data['GoldPrice']\n",
    "X = sm.add_constant(X)\n",
    "model1 = sm.OLS(Y,X).fit()\n",
    "model1.summary()"
   ]
  },
  {
   "cell_type": "code",
   "execution_count": 8,
   "metadata": {},
   "outputs": [
    {
     "data": {
      "text/html": [
       "<table class=\"simpletable\">\n",
       "<caption>OLS Regression Results</caption>\n",
       "<tr>\n",
       "  <th>Dep. Variable:</th>          <td>NYSE</td>       <th>  R-squared:         </th> <td>   0.959</td>\n",
       "</tr>\n",
       "<tr>\n",
       "  <th>Model:</th>                   <td>OLS</td>       <th>  Adj. R-squared:    </th> <td>   0.956</td>\n",
       "</tr>\n",
       "<tr>\n",
       "  <th>Method:</th>             <td>Least Squares</td>  <th>  F-statistic:       </th> <td>   307.8</td>\n",
       "</tr>\n",
       "<tr>\n",
       "  <th>Date:</th>             <td>Tue, 20 Oct 2020</td> <th>  Prob (F-statistic):</th> <td>1.97e-10</td>\n",
       "</tr>\n",
       "<tr>\n",
       "  <th>Time:</th>                 <td>02:39:18</td>     <th>  Log-Likelihood:    </th> <td> -79.382</td>\n",
       "</tr>\n",
       "<tr>\n",
       "  <th>No. Observations:</th>      <td>    15</td>      <th>  AIC:               </th> <td>   162.8</td>\n",
       "</tr>\n",
       "<tr>\n",
       "  <th>Df Residuals:</th>          <td>    13</td>      <th>  BIC:               </th> <td>   164.2</td>\n",
       "</tr>\n",
       "<tr>\n",
       "  <th>Df Model:</th>              <td>     1</td>      <th>                     </th>     <td> </td>   \n",
       "</tr>\n",
       "<tr>\n",
       "  <th>Covariance Type:</th>      <td>nonrobust</td>    <th>                     </th>     <td> </td>   \n",
       "</tr>\n",
       "</table>\n",
       "<table class=\"simpletable\">\n",
       "<tr>\n",
       "    <td></td>       <th>coef</th>     <th>std err</th>      <th>t</th>      <th>P>|t|</th>  <th>[0.025</th>    <th>0.975]</th>  \n",
       "</tr>\n",
       "<tr>\n",
       "  <th>const</th> <td> -108.4420</td> <td>   32.400</td> <td>   -3.347</td> <td> 0.005</td> <td> -178.437</td> <td>  -38.447</td>\n",
       "</tr>\n",
       "<tr>\n",
       "  <th>CPI</th>   <td>    4.6024</td> <td>    0.262</td> <td>   17.543</td> <td> 0.000</td> <td>    4.036</td> <td>    5.169</td>\n",
       "</tr>\n",
       "</table>\n",
       "<table class=\"simpletable\">\n",
       "<tr>\n",
       "  <th>Omnibus:</th>       <td> 2.719</td> <th>  Durbin-Watson:     </th> <td>   1.015</td>\n",
       "</tr>\n",
       "<tr>\n",
       "  <th>Prob(Omnibus):</th> <td> 0.257</td> <th>  Jarque-Bera (JB):  </th> <td>   1.082</td>\n",
       "</tr>\n",
       "<tr>\n",
       "  <th>Skew:</th>          <td>-0.057</td> <th>  Prob(JB):          </th> <td>   0.582</td>\n",
       "</tr>\n",
       "<tr>\n",
       "  <th>Kurtosis:</th>      <td> 1.689</td> <th>  Cond. No.          </th> <td>    300.</td>\n",
       "</tr>\n",
       "</table><br/><br/>Warnings:<br/>[1] Standard Errors assume that the covariance matrix of the errors is correctly specified."
      ],
      "text/plain": [
       "<class 'statsmodels.iolib.summary.Summary'>\n",
       "\"\"\"\n",
       "                            OLS Regression Results                            \n",
       "==============================================================================\n",
       "Dep. Variable:                   NYSE   R-squared:                       0.959\n",
       "Model:                            OLS   Adj. R-squared:                  0.956\n",
       "Method:                 Least Squares   F-statistic:                     307.8\n",
       "Date:                Tue, 20 Oct 2020   Prob (F-statistic):           1.97e-10\n",
       "Time:                        02:39:18   Log-Likelihood:                -79.382\n",
       "No. Observations:                  15   AIC:                             162.8\n",
       "Df Residuals:                      13   BIC:                             164.2\n",
       "Df Model:                           1                                         \n",
       "Covariance Type:            nonrobust                                         \n",
       "==============================================================================\n",
       "                 coef    std err          t      P>|t|      [0.025      0.975]\n",
       "------------------------------------------------------------------------------\n",
       "const       -108.4420     32.400     -3.347      0.005    -178.437     -38.447\n",
       "CPI            4.6024      0.262     17.543      0.000       4.036       5.169\n",
       "==============================================================================\n",
       "Omnibus:                        2.719   Durbin-Watson:                   1.015\n",
       "Prob(Omnibus):                  0.257   Jarque-Bera (JB):                1.082\n",
       "Skew:                          -0.057   Prob(JB):                        0.582\n",
       "Kurtosis:                       1.689   Cond. No.                         300.\n",
       "==============================================================================\n",
       "\n",
       "Warnings:\n",
       "[1] Standard Errors assume that the covariance matrix of the errors is correctly specified.\n",
       "\"\"\""
      ]
     },
     "execution_count": 8,
     "metadata": {},
     "output_type": "execute_result"
    }
   ],
   "source": [
    "#Model 2\n",
    "x = data['CPI']\n",
    "y = data['NYSE']\n",
    "x = sm.add_constant(x)\n",
    "model2 = sm.OLS(y,x).fit()\n",
    "model2.summary()"
   ]
  },
  {
   "cell_type": "markdown",
   "metadata": {},
   "source": [
    "### b)  H0 - The data follows the normal distribution\n",
    "https://www.statisticshowto.com/error-term/"
   ]
  },
  {
   "cell_type": "markdown",
   "metadata": {},
   "source": [
    "### c) In the gold price regression, test the hypothesis that β2 = 1,\n",
    "that is, there is a one-to-one relationship between gold prices and CPI (i.e., gold is a perfect hedge)?https://www.investopedia.com/terms/h/hedge.asp"
   ]
  },
  {
   "cell_type": "markdown",
   "metadata": {},
   "source": [
    "t-critical value = 2.160 @ 13 d.f.\n",
    "\n",
    "### Claculated Value = (0.4870 - 1)/ .561\n",
    "\n",
    "                        = -0.91\n",
    "                        \n",
    " Therefore we do not reject the null hypothesis                        "
   ]
  },
  {
   "cell_type": "code",
   "execution_count": null,
   "metadata": {},
   "outputs": [],
   "source": []
  },
  {
   "cell_type": "markdown",
   "metadata": {},
   "source": [
    "### d) In the NYSE regression testing the hypothesis at  β2 = 1 \n",
    "\n",
    "\n",
    "### Calculated Value = (4.6024 - 1)/ 0.262\n",
    "                        = 13.749\n",
    " Therefore we reject the null hypothesis                        "
   ]
  },
  {
   "cell_type": "code",
   "execution_count": null,
   "metadata": {},
   "outputs": [],
   "source": []
  },
  {
   "cell_type": "markdown",
   "metadata": {},
   "source": [
    "### e)  i.e the  estimated coefficent of N.Y.S.E index is greater than 1. \n",
    "\n",
    "### For this sample period , investment in the stock market probably is a hedge against inflation.\n",
    "\n",
    "### It certainly was a much better hedge against inflation than investment in Gold. "
   ]
  },
  {
   "cell_type": "code",
   "execution_count": null,
   "metadata": {},
   "outputs": [],
   "source": []
  }
 ],
 "metadata": {
  "kernelspec": {
   "display_name": "Python 3",
   "language": "python",
   "name": "python3"
  },
  "language_info": {
   "codemirror_mode": {
    "name": "ipython",
    "version": 3
   },
   "file_extension": ".py",
   "mimetype": "text/x-python",
   "name": "python",
   "nbconvert_exporter": "python",
   "pygments_lexer": "ipython3",
   "version": "3.7.6"
  }
 },
 "nbformat": 4,
 "nbformat_minor": 4
}
